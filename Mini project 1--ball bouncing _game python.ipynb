{
 "cells": [
  {
   "cell_type": "code",
   "execution_count": 1,
   "id": "b76a561e",
   "metadata": {},
   "outputs": [],
   "source": [
    "# pip install speechRecognition\n",
    "# pip install time -update\n",
    "# pip install time"
   ]
  },
  {
   "cell_type": "code",
   "execution_count": 2,
   "id": "f5c9216b",
   "metadata": {},
   "outputs": [
    {
     "name": "stdout",
     "output_type": "stream",
     "text": [
      "pygame 2.1.2 (SDL 2.0.18, Python 3.8.9)\n",
      "Hello from the pygame community. https://www.pygame.org/contribute.html\n"
     ]
    },
    {
     "data": {
      "text/plain": [
       "(5, 0)"
      ]
     },
     "execution_count": 2,
     "metadata": {},
     "output_type": "execute_result"
    }
   ],
   "source": [
    "import pygame,time,random\n",
    "pygame.init()"
   ]
  },
  {
   "cell_type": "code",
   "execution_count": null,
   "id": "cb11705b",
   "metadata": {},
   "outputs": [],
   "source": [
    "screen=pygame.display.set_mode((800,600))\n",
    "background=pygame.image.load('background-img.jpg')\n",
    "pygame.display.set_caption(\"jeevith ball project\")\n",
    "\n",
    "#class of ball\n",
    "class ball:\n",
    "    ball_image=pygame.image.load(\"ball.png\")\n",
    "    g=1  #gravity of the ball\n",
    "    def __init__(self):\n",
    "        self.velocityX=4\n",
    "        self.velocityY=4\n",
    "        self.X=random.randint(0,768)\n",
    "        self.Y=random.randint(0,350)\n",
    "    def render_ball(self):\n",
    "        screen.blit(ball.ball_image,(self.X,self.Y))\n",
    "        \n",
    "    def mov_ball(self):\n",
    "        self.velocityY+=ball.g\n",
    "        self.X +=self.velocityX\n",
    "        self.Y +=self.velocityY\n",
    "        if self.X<0 or self.X>768:\n",
    "            self.velocityX*=-1\n",
    "            \n",
    "        if self.Y<0 and self.velocityY<0:\n",
    "            self.velocityY*=-1\n",
    "            self.Y=0\n",
    "            \n",
    "        if self.Y>568 and self.velocityY>0:\n",
    "            self.velocityY*=-1\n",
    "            self.Y=568\n",
    "Ball_List=[ball(),ball(),ball(),ball(),ball(),ball(),ball()]\n",
    "running=True\n",
    "while running :\n",
    "    for event in pygame.event.get():\n",
    "        if event.type==pygame.QUIT:\n",
    "            pygame.quit()\n",
    "#             running=False\n",
    "    time.sleep(0.02)\n",
    "    screen.blit(background,(0,0))\n",
    "    for ball_item in Ball_List:\n",
    "        ball_item.render_ball()\n",
    "        ball_item.mov_ball()\n",
    "\n",
    "    pygame.display.update()"
   ]
  },
  {
   "cell_type": "code",
   "execution_count": null,
   "id": "7590ffbd",
   "metadata": {},
   "outputs": [],
   "source": []
  },
  {
   "cell_type": "code",
   "execution_count": null,
   "id": "304e40a8",
   "metadata": {},
   "outputs": [],
   "source": [
    "\n",
    "        \n",
    "        "
   ]
  },
  {
   "cell_type": "code",
   "execution_count": null,
   "id": "3d91035d",
   "metadata": {},
   "outputs": [],
   "source": []
  },
  {
   "cell_type": "code",
   "execution_count": null,
   "id": "e82f1f35",
   "metadata": {},
   "outputs": [],
   "source": []
  },
  {
   "cell_type": "code",
   "execution_count": null,
   "id": "262fc96b",
   "metadata": {},
   "outputs": [],
   "source": []
  }
 ],
 "metadata": {
  "kernelspec": {
   "display_name": "Python 3 (ipykernel)",
   "language": "python",
   "name": "python3"
  },
  "language_info": {
   "codemirror_mode": {
    "name": "ipython",
    "version": 3
   },
   "file_extension": ".py",
   "mimetype": "text/x-python",
   "name": "python",
   "nbconvert_exporter": "python",
   "pygments_lexer": "ipython3",
   "version": "3.8.9"
  }
 },
 "nbformat": 4,
 "nbformat_minor": 5
}
